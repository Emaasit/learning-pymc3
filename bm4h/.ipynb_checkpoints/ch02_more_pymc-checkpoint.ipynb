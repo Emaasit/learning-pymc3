{
 "cells": [
  {
   "cell_type": "markdown",
   "metadata": {},
   "source": [
    "## A little More on PyMC3"
   ]
  },
  {
   "cell_type": "code",
   "execution_count": 1,
   "metadata": {},
   "outputs": [],
   "source": [
    "%matplotlib inline\n",
    "import numpy as np\n",
    "import pandas as pd\n",
    "import theano\n",
    "import pymc3 as pm\n",
    "import seaborn as sns\n",
    "import matplotlib.pyplot as plt\n",
    "sns.set_context('notebook')\n",
    "np.random.seed(12345)\n",
    "rc = {'xtick.labelsize': 10, 'ytick.labelsize': 10, 'axes.labelsize': 10, 'font.size': 10, \n",
    "      'legend.fontsize': 12.0, 'axes.titlesize': 10, \"figure.figsize\": [14, 6]}\n",
    "sns.set(rc = rc)\n",
    "sns.set_style(\"whitegrid\")"
   ]
  },
  {
   "cell_type": "markdown",
   "metadata": {},
   "source": [
    "## Model context"
   ]
  },
  {
   "cell_type": "markdown",
   "metadata": {},
   "source": [
    "All variables we want in our model are defined within the Model context/object.  \n",
    "If you try to define a variable outside of the Model context, you will ge an error."
   ]
  },
  {
   "cell_type": "markdown",
   "metadata": {},
   "source": [
    "### Initial values\n",
    "All variables in the Model context have initial values i.e test value. It's used as the starting point for sampling if no other start is specified."
   ]
  },
  {
   "cell_type": "code",
   "execution_count": 2,
   "metadata": {},
   "outputs": [],
   "source": [
    "with pm.Model() as model:\n",
    "    param = pm.Exponential(\"param\", lam = 1)\n",
    "    data_gen = pm.Poisson(\"data_gen\", mu = param)"
   ]
  },
  {
   "cell_type": "code",
   "execution_count": 5,
   "metadata": {},
   "outputs": [
    {
     "data": {
      "text/plain": [
       "array(0.6931471824645996)"
      ]
     },
     "execution_count": 5,
     "metadata": {},
     "output_type": "execute_result"
    }
   ],
   "source": [
    "param.tag.test_value"
   ]
  },
  {
   "cell_type": "code",
   "execution_count": 6,
   "metadata": {},
   "outputs": [
    {
     "data": {
      "text/plain": [
       "0"
      ]
     },
     "execution_count": 6,
     "metadata": {},
     "output_type": "execute_result"
    }
   ],
   "source": [
    "data_gen.tag.test_value"
   ]
  },
  {
   "cell_type": "markdown",
   "metadata": {},
   "source": [
    "Supply initial values using testval. This maybe necessary if you need a better starting point"
   ]
  },
  {
   "cell_type": "code",
   "execution_count": 10,
   "metadata": {},
   "outputs": [
    {
     "data": {
      "text/plain": [
       "array(0.4)"
      ]
     },
     "execution_count": 10,
     "metadata": {},
     "output_type": "execute_result"
    }
   ],
   "source": [
    "with pm.Model() as model:\n",
    "    param = pm.Exponential(\"param\", lam = 1, testval = 0.4)\n",
    "    \n",
    "param.tag.test_value    "
   ]
  },
  {
   "cell_type": "markdown",
   "metadata": {},
   "source": [
    "Use the *shape* argument to specify the number of variables like number of coefficients"
   ]
  },
  {
   "cell_type": "code",
   "execution_count": 14,
   "metadata": {},
   "outputs": [
    {
     "data": {
      "text/plain": [
       "array([ 0.,  0.,  0.,  0.,  0.])"
      ]
     },
     "execution_count": 14,
     "metadata": {},
     "output_type": "execute_result"
    }
   ],
   "source": [
    "number_of_coeff = 5\n",
    "with pm.Model() as model:\n",
    "    betas = pm.Normal(\"betas\", mu = 0, sd = 1, shape = number_of_coeff)\n",
    "\n",
    "betas.tag.test_value    "
   ]
  },
  {
   "cell_type": "code",
   "execution_count": 27,
   "metadata": {},
   "outputs": [
    {
     "data": {
      "text/plain": [
       "array([[ 16.99,   1.01],\n",
       "       [ 10.34,   1.66],\n",
       "       [ 21.01,   3.5 ],\n",
       "       [ 23.68,   3.31],\n",
       "       [ 24.59,   3.61],\n",
       "       [ 25.29,   4.71],\n",
       "       [  8.77,   2.  ],\n",
       "       [ 26.88,   3.12],\n",
       "       [ 15.04,   1.96],\n",
       "       [ 14.78,   3.23],\n",
       "       [ 10.27,   1.71],\n",
       "       [ 35.26,   5.  ],\n",
       "       [ 15.42,   1.57],\n",
       "       [ 18.43,   3.  ],\n",
       "       [ 14.83,   3.02],\n",
       "       [ 21.58,   3.92],\n",
       "       [ 10.33,   1.67],\n",
       "       [ 16.29,   3.71],\n",
       "       [ 16.97,   3.5 ],\n",
       "       [ 20.65,   3.35],\n",
       "       [ 17.92,   4.08],\n",
       "       [ 20.29,   2.75],\n",
       "       [ 15.77,   2.23],\n",
       "       [ 39.42,   7.58],\n",
       "       [ 19.82,   3.18],\n",
       "       [ 17.81,   2.34],\n",
       "       [ 13.37,   2.  ],\n",
       "       [ 12.69,   2.  ],\n",
       "       [ 21.7 ,   4.3 ],\n",
       "       [ 19.65,   3.  ],\n",
       "       [  9.55,   1.45],\n",
       "       [ 18.35,   2.5 ],\n",
       "       [ 15.06,   3.  ],\n",
       "       [ 20.69,   2.45],\n",
       "       [ 17.78,   3.27],\n",
       "       [ 24.06,   3.6 ],\n",
       "       [ 16.31,   2.  ],\n",
       "       [ 16.93,   3.07],\n",
       "       [ 18.69,   2.31],\n",
       "       [ 31.27,   5.  ],\n",
       "       [ 16.04,   2.24],\n",
       "       [ 17.46,   2.54],\n",
       "       [ 13.94,   3.06],\n",
       "       [  9.68,   1.32],\n",
       "       [ 30.4 ,   5.6 ],\n",
       "       [ 18.29,   3.  ],\n",
       "       [ 22.23,   5.  ],\n",
       "       [ 32.4 ,   6.  ],\n",
       "       [ 28.55,   2.05],\n",
       "       [ 18.04,   3.  ],\n",
       "       [ 12.54,   2.5 ],\n",
       "       [ 10.29,   2.6 ],\n",
       "       [ 34.81,   5.2 ],\n",
       "       [  9.94,   1.56],\n",
       "       [ 25.56,   4.34],\n",
       "       [ 19.49,   3.51],\n",
       "       [ 38.01,   3.  ],\n",
       "       [ 26.41,   1.5 ],\n",
       "       [ 11.24,   1.76],\n",
       "       [ 48.27,   6.73],\n",
       "       [ 20.29,   3.21],\n",
       "       [ 13.81,   2.  ],\n",
       "       [ 11.02,   1.98],\n",
       "       [ 18.29,   3.76],\n",
       "       [ 17.59,   2.64],\n",
       "       [ 20.08,   3.15],\n",
       "       [ 16.45,   2.47],\n",
       "       [  3.07,   1.  ],\n",
       "       [ 20.23,   2.01],\n",
       "       [ 15.01,   2.09],\n",
       "       [ 12.02,   1.97],\n",
       "       [ 17.07,   3.  ],\n",
       "       [ 26.86,   3.14],\n",
       "       [ 25.28,   5.  ],\n",
       "       [ 14.73,   2.2 ],\n",
       "       [ 10.51,   1.25],\n",
       "       [ 17.92,   3.08],\n",
       "       [ 27.2 ,   4.  ],\n",
       "       [ 22.76,   3.  ],\n",
       "       [ 17.29,   2.71],\n",
       "       [ 19.44,   3.  ],\n",
       "       [ 16.66,   3.4 ],\n",
       "       [ 10.07,   1.83],\n",
       "       [ 32.68,   5.  ],\n",
       "       [ 15.98,   2.03],\n",
       "       [ 34.83,   5.17],\n",
       "       [ 13.03,   2.  ],\n",
       "       [ 18.28,   4.  ],\n",
       "       [ 24.71,   5.85],\n",
       "       [ 21.16,   3.  ],\n",
       "       [ 28.97,   3.  ],\n",
       "       [ 22.49,   3.5 ],\n",
       "       [  5.75,   1.  ],\n",
       "       [ 16.32,   4.3 ],\n",
       "       [ 22.75,   3.25],\n",
       "       [ 40.17,   4.73],\n",
       "       [ 27.28,   4.  ],\n",
       "       [ 12.03,   1.5 ],\n",
       "       [ 21.01,   3.  ],\n",
       "       [ 12.46,   1.5 ],\n",
       "       [ 11.35,   2.5 ],\n",
       "       [ 15.38,   3.  ],\n",
       "       [ 44.3 ,   2.5 ],\n",
       "       [ 22.42,   3.48],\n",
       "       [ 20.92,   4.08],\n",
       "       [ 15.36,   1.64],\n",
       "       [ 20.49,   4.06],\n",
       "       [ 25.21,   4.29],\n",
       "       [ 18.24,   3.76],\n",
       "       [ 14.31,   4.  ],\n",
       "       [ 14.  ,   3.  ],\n",
       "       [  7.25,   1.  ],\n",
       "       [ 38.07,   4.  ],\n",
       "       [ 23.95,   2.55],\n",
       "       [ 25.71,   4.  ],\n",
       "       [ 17.31,   3.5 ],\n",
       "       [ 29.93,   5.07],\n",
       "       [ 10.65,   1.5 ],\n",
       "       [ 12.43,   1.8 ],\n",
       "       [ 24.08,   2.92],\n",
       "       [ 11.69,   2.31],\n",
       "       [ 13.42,   1.68],\n",
       "       [ 14.26,   2.5 ],\n",
       "       [ 15.95,   2.  ],\n",
       "       [ 12.48,   2.52],\n",
       "       [ 29.8 ,   4.2 ],\n",
       "       [  8.52,   1.48],\n",
       "       [ 14.52,   2.  ],\n",
       "       [ 11.38,   2.  ],\n",
       "       [ 22.82,   2.18],\n",
       "       [ 19.08,   1.5 ],\n",
       "       [ 20.27,   2.83],\n",
       "       [ 11.17,   1.5 ],\n",
       "       [ 12.26,   2.  ],\n",
       "       [ 18.26,   3.25],\n",
       "       [  8.51,   1.25],\n",
       "       [ 10.33,   2.  ],\n",
       "       [ 14.15,   2.  ],\n",
       "       [ 16.  ,   2.  ],\n",
       "       [ 13.16,   2.75],\n",
       "       [ 17.47,   3.5 ],\n",
       "       [ 34.3 ,   6.7 ],\n",
       "       [ 41.19,   5.  ],\n",
       "       [ 27.05,   5.  ],\n",
       "       [ 16.43,   2.3 ],\n",
       "       [  8.35,   1.5 ],\n",
       "       [ 18.64,   1.36],\n",
       "       [ 11.87,   1.63],\n",
       "       [  9.78,   1.73],\n",
       "       [  7.51,   2.  ],\n",
       "       [ 14.07,   2.5 ],\n",
       "       [ 13.13,   2.  ],\n",
       "       [ 17.26,   2.74],\n",
       "       [ 24.55,   2.  ],\n",
       "       [ 19.77,   2.  ],\n",
       "       [ 29.85,   5.14],\n",
       "       [ 48.17,   5.  ],\n",
       "       [ 25.  ,   3.75],\n",
       "       [ 13.39,   2.61],\n",
       "       [ 16.49,   2.  ],\n",
       "       [ 21.5 ,   3.5 ],\n",
       "       [ 12.66,   2.5 ],\n",
       "       [ 16.21,   2.  ],\n",
       "       [ 13.81,   2.  ],\n",
       "       [ 17.51,   3.  ],\n",
       "       [ 24.52,   3.48],\n",
       "       [ 20.76,   2.24],\n",
       "       [ 31.71,   4.5 ],\n",
       "       [ 10.59,   1.61],\n",
       "       [ 10.63,   2.  ],\n",
       "       [ 50.81,  10.  ],\n",
       "       [ 15.81,   3.16],\n",
       "       [  7.25,   5.15],\n",
       "       [ 31.85,   3.18],\n",
       "       [ 16.82,   4.  ],\n",
       "       [ 32.9 ,   3.11],\n",
       "       [ 17.89,   2.  ],\n",
       "       [ 14.48,   2.  ],\n",
       "       [  9.6 ,   4.  ],\n",
       "       [ 34.63,   3.55],\n",
       "       [ 34.65,   3.68],\n",
       "       [ 23.33,   5.65],\n",
       "       [ 45.35,   3.5 ],\n",
       "       [ 23.17,   6.5 ],\n",
       "       [ 40.55,   3.  ],\n",
       "       [ 20.69,   5.  ],\n",
       "       [ 20.9 ,   3.5 ],\n",
       "       [ 30.46,   2.  ],\n",
       "       [ 18.15,   3.5 ],\n",
       "       [ 23.1 ,   4.  ],\n",
       "       [ 15.69,   1.5 ],\n",
       "       [ 19.81,   4.19],\n",
       "       [ 28.44,   2.56],\n",
       "       [ 15.48,   2.02],\n",
       "       [ 16.58,   4.  ],\n",
       "       [  7.56,   1.44],\n",
       "       [ 10.34,   2.  ],\n",
       "       [ 43.11,   5.  ],\n",
       "       [ 13.  ,   2.  ],\n",
       "       [ 13.51,   2.  ],\n",
       "       [ 18.71,   4.  ],\n",
       "       [ 12.74,   2.01],\n",
       "       [ 13.  ,   2.  ],\n",
       "       [ 16.4 ,   2.5 ],\n",
       "       [ 20.53,   4.  ],\n",
       "       [ 16.47,   3.23],\n",
       "       [ 26.59,   3.41],\n",
       "       [ 38.73,   3.  ],\n",
       "       [ 24.27,   2.03],\n",
       "       [ 12.76,   2.23],\n",
       "       [ 30.06,   2.  ],\n",
       "       [ 25.89,   5.16],\n",
       "       [ 48.33,   9.  ],\n",
       "       [ 13.27,   2.5 ],\n",
       "       [ 28.17,   6.5 ],\n",
       "       [ 12.9 ,   1.1 ],\n",
       "       [ 28.15,   3.  ],\n",
       "       [ 11.59,   1.5 ],\n",
       "       [  7.74,   1.44],\n",
       "       [ 30.14,   3.09],\n",
       "       [ 12.16,   2.2 ],\n",
       "       [ 13.42,   3.48],\n",
       "       [  8.58,   1.92],\n",
       "       [ 15.98,   3.  ],\n",
       "       [ 13.42,   1.58],\n",
       "       [ 16.27,   2.5 ],\n",
       "       [ 10.09,   2.  ],\n",
       "       [ 20.45,   3.  ],\n",
       "       [ 13.28,   2.72],\n",
       "       [ 22.12,   2.88],\n",
       "       [ 24.01,   2.  ],\n",
       "       [ 15.69,   3.  ],\n",
       "       [ 11.61,   3.39],\n",
       "       [ 10.77,   1.47],\n",
       "       [ 15.53,   3.  ],\n",
       "       [ 10.07,   1.25],\n",
       "       [ 12.6 ,   1.  ],\n",
       "       [ 32.83,   1.17],\n",
       "       [ 35.83,   4.67],\n",
       "       [ 29.03,   5.92],\n",
       "       [ 27.18,   2.  ],\n",
       "       [ 22.67,   2.  ],\n",
       "       [ 17.82,   1.75],\n",
       "       [ 18.78,   3.  ]])"
      ]
     },
     "execution_count": 27,
     "metadata": {},
     "output_type": "execute_result"
    }
   ],
   "source": [
    "X = np.array(sns.load_dataset(\"tips\")[[\"total_bill\", \"tip\"]])\n",
    "X"
   ]
  },
  {
   "cell_type": "markdown",
   "metadata": {},
   "source": [
    "If we want a deterministic variable to be tracked by our sampling, define it explicitly using the *deterministic* constructor"
   ]
  },
  {
   "cell_type": "code",
   "execution_count": 28,
   "metadata": {},
   "outputs": [],
   "source": [
    "X = sns.load_dataset(\"tips\")[[\"total_bill\", \"tip\"]]\n",
    "with pm.Model() as model:\n",
    "    betas = pm.Normal(\"betas\", mu = 0, sd = 1, shape = 2)\n",
    "    sd_error = pm.HalfNormal(\"sd_error\", sd = 1)\n",
    "    intercept = pm.Normal(\"intercept\", mu = 0, sd = 1)\n",
    "    \n",
    "    # specify the mean function\n",
    "    mean = pm.Deterministic(\"mean\", intercept + betas * X)"
   ]
  },
  {
   "cell_type": "code",
   "execution_count": null,
   "metadata": {},
   "outputs": [],
   "source": []
  }
 ],
 "metadata": {
  "kernelspec": {
   "display_name": "Python 3",
   "language": "python",
   "name": "python3"
  },
  "language_info": {
   "codemirror_mode": {
    "name": "ipython",
    "version": 3
   },
   "file_extension": ".py",
   "mimetype": "text/x-python",
   "name": "python",
   "nbconvert_exporter": "python",
   "pygments_lexer": "ipython3",
   "version": "3.6.3"
  }
 },
 "nbformat": 4,
 "nbformat_minor": 2
}
